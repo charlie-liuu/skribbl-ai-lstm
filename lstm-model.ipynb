{
 "cells": [
  {
   "cell_type": "code",
   "execution_count": 19,
   "metadata": {},
   "outputs": [],
   "source": [
    "import pandas as pd\n",
    "import tensorflow as tf\n",
    "from tensorflow.keras.layers import Dense, Flatten, Conv2D\n",
    "from tensorflow.keras import Model\n",
    "import numpy as np\n",
    "import json\n",
    "from  tensorflow import keras\n",
    "from tensorflow.keras import layers"
   ]
  },
  {
   "cell_type": "code",
   "execution_count": 3,
   "metadata": {},
   "outputs": [],
   "source": [
    "def normalize(row):\n",
    "    word = row[\"word\"]\n",
    "    strokes = row[\"drawing\"]\n",
    "\n",
    "    stroke_lengths = [len(stroke[0]) for stroke in strokes]\n",
    "    total_points = sum(stroke_lengths)\n",
    "    arr_strokes = np.zeros((total_points, 3), dtype=np.float32)\n",
    "    current_t = 0\n",
    "\n",
    "    for stroke in strokes:\n",
    "        for i in [0, 1]:\n",
    "            arr_strokes[current_t:(current_t + len(stroke[0])), i] = stroke[i]\n",
    "        current_t += len(stroke[0])\n",
    "        arr_strokes[current_t - 1, 2] = 1  # stroke_end\n",
    "\n",
    "    lower = np.min(arr_strokes[:, 0:2], axis=0)\n",
    "    upper = np.max(arr_strokes[:, 0:2], axis=0)\n",
    "    scale = upper - lower\n",
    "    scale[scale == 0] = 1\n",
    "    arr_strokes[:, 0:2] = (arr_strokes[:, 0:2] - lower) / scale\n",
    "\n",
    "    arr_strokes[1:, 0:2] -= arr_strokes[0:-1, 0:2]\n",
    "    arr_strokes = arr_strokes[1:, :]\n",
    "    return arr_strokes, word\n"
   ]
  },
  {
   "cell_type": "code",
   "execution_count": 4,
   "metadata": {},
   "outputs": [],
   "source": [
    "anvil = './draw_data/anvil.ndjson'\n",
    "df = pd.read_json(anvil, lines=True)\n",
    "\n",
    "# Apply the parsing function to each row using df.apply\n",
    "result = df.apply(normalize, axis=1)\n",
    "\n",
    "# # Process the results if needed\n",
    "# data_x = np.empty((0, 100, 3), float)\n",
    "# ctr = 0\n",
    "\n",
    "result_df = result.to_frame()\n",
    "result_df['name'] = result_df[0].apply(lambda x: x[1])\n",
    "result_df  = result_df.rename(columns = {0 : 'Strokes'})\n",
    "result_df.Strokes = result_df.Strokes.apply(lambda x: x[0].tolist())\n",
    "max_length = result_df.Strokes.apply(len).max()\n",
    "padded_strokes = result_df.Strokes.apply(lambda x: x + [(0, 0, 0)] * (max_length - len(x)))\n"
   ]
  },
  {
   "cell_type": "code",
   "execution_count": 1,
   "metadata": {},
   "outputs": [
    {
     "ename": "NameError",
     "evalue": "name 'padded_strokes' is not defined",
     "output_type": "error",
     "traceback": [
      "\u001b[1;31m---------------------------------------------------------------------------\u001b[0m",
      "\u001b[1;31mNameError\u001b[0m                                 Traceback (most recent call last)",
      "Cell \u001b[1;32mIn[1], line 1\u001b[0m\n\u001b[1;32m----> 1\u001b[0m \u001b[43mpadded_strokes\u001b[49m\n",
      "\u001b[1;31mNameError\u001b[0m: name 'padded_strokes' is not defined"
     ]
    }
   ],
   "source": [
    "padded_strokes"
   ]
  },
  {
   "cell_type": "code",
   "execution_count": 139,
   "metadata": {},
   "outputs": [
    {
     "data": {
      "text/plain": [
       "0         [[0.020504087209701538, -0.010559380054473877,...\n",
       "1         [[-0.0029368577525019646, 0.02127659320831299,...\n",
       "2         [[0.0, 0.020527860149741173, 0.0], [0.0, 0.014...\n",
       "3         [[0.015000000596046448, -0.0058650970458984375...\n",
       "4         [[0.01807228848338127, -0.004975123330950737, ...\n",
       "                                ...                        \n",
       "126226    [[0.030549898743629456, -0.011406846344470978,...\n",
       "126227    [[0.010676175355911255, 0.024911046028137207, ...\n",
       "126228    [[0.02684563770890236, 0.0, 0.0], [0.053691271...\n",
       "126229    [[-0.011135876178741455, 0.0049627795815467834...\n",
       "126230    [[0.0014858841896057129, 0.01425662636756897, ...\n",
       "Name: Strokes, Length: 126231, dtype: object"
      ]
     },
     "execution_count": 139,
     "metadata": {},
     "output_type": "execute_result"
    }
   ],
   "source": [
    "padded_strokes[0]"
   ]
  },
  {
   "cell_type": "code",
   "execution_count": null,
   "metadata": {},
   "outputs": [
    {
     "name": "stderr",
     "output_type": "stream",
     "text": [
      "\n",
      "KeyboardInterrupt\n",
      "\n"
     ]
    }
   ],
   "source": [
    "np.array(padded_strokes.to_list()) \n"
   ]
  },
  {
   "cell_type": "code",
   "execution_count": 20,
   "metadata": {},
   "outputs": [
    {
     "name": "stdout",
     "output_type": "stream",
     "text": [
      "Model: \"sequential_2\"\n",
      "_________________________________________________________________\n",
      " Layer (type)                Output Shape              Param #   \n",
      "=================================================================\n",
      " lstm (LSTM)                 (None, 64)                23808     \n",
      "                                                                 \n",
      " batch_normalization (Batch  (None, 64)                256       \n",
      " Normalization)                                                  \n",
      "                                                                 \n",
      " dense (Dense)               (None, 10)                650       \n",
      "                                                                 \n",
      "=================================================================\n",
      "Total params: 24714 (96.54 KB)\n",
      "Trainable params: 24586 (96.04 KB)\n",
      "Non-trainable params: 128 (512.00 Byte)\n",
      "_________________________________________________________________\n",
      "None\n"
     ]
    }
   ],
   "source": [
    "model = keras.Sequential()\n",
    "model.add(layers.LSTM(64, input_shape=(None, 28)))\n",
    "model.add(layers.BatchNormalization())\n",
    "model.add(layers.Dense(10))\n",
    "print(model.summary())"
   ]
  },
  {
   "cell_type": "code",
   "execution_count": 21,
   "metadata": {},
   "outputs": [
    {
     "name": "stdout",
     "output_type": "stream",
     "text": [
      "WARNING:tensorflow:From c:\\Users\\Admin\\.pyenv\\pyenv-win\\versions\\3.9.6\\lib\\site-packages\\keras\\src\\optimizers\\__init__.py:309: The name tf.train.Optimizer is deprecated. Please use tf.compat.v1.train.Optimizer instead.\n",
      "\n"
     ]
    }
   ],
   "source": [
    "model.compile(loss='categorical_crossentropy', optimizer='sgd', metrics=['accuracy'])"
   ]
  },
  {
   "cell_type": "code",
   "execution_count": 32,
   "metadata": {},
   "outputs": [],
   "source": [
    "anvil_data_temp = [(x[0],x[1]) for x in anvil_data[1]]"
   ]
  },
  {
   "cell_type": "code",
   "execution_count": 57,
   "metadata": {},
   "outputs": [
    {
     "data": {
      "text/plain": [
       "(10000, 100, 3)"
      ]
     },
     "execution_count": 57,
     "metadata": {},
     "output_type": "execute_result"
    }
   ],
   "source": [
    "anvil_data.shape"
   ]
  },
  {
   "cell_type": "code",
   "execution_count": 33,
   "metadata": {},
   "outputs": [
    {
     "data": {
      "image/png": "[encoded data removed]",
      "text/plain": [
       "<Figure size 640x480 with 1 Axes>"
      ]
     },
     "metadata": {},
     "output_type": "display_data"
    }
   ],
   "source": [
    "\n",
    "import matplotlib.pyplot as plt\n",
    "\n",
    "plt.plot(*zip(*anvil_data_temp))\n",
    "plt.show()"
   ]
  },
  {
   "cell_type": "code",
   "execution_count": 143,
   "metadata": {},
   "outputs": [
    {
     "data": {
      "text/plain": [
       "[]"
      ]
     },
     "execution_count": 143,
     "metadata": {},
     "output_type": "execute_result"
    }
   ],
   "source": [
    "tf.config.list_physical_devices('GPU')"
   ]
  },
  {
   "cell_type": "code",
   "execution_count": 142,
   "metadata": {},
   "outputs": [
    {
     "ename": "NameError",
     "evalue": "name 'nvidia' is not defined",
     "output_type": "error",
     "traceback": [
      "\u001b[1;31m---------------------------------------------------------------------------\u001b[0m",
      "\u001b[1;31mNameError\u001b[0m                                 Traceback (most recent call last)",
      "Cell \u001b[1;32mIn[142], line 1\u001b[0m\n\u001b[1;32m----> 1\u001b[0m \u001b[43mnvidia\u001b[49m\u001b[38;5;241m-\u001b[39msmi\n",
      "\u001b[1;31mNameError\u001b[0m: name 'nvidia' is not defined"
     ]
    }
   ],
   "source": [
    "nvidia-smi"
   ]
  },
  {
   "cell_type": "code",
   "execution_count": null,
   "metadata": {},
   "outputs": [],
   "source": [
    "\"\""
   ]
  }
 ],
 "metadata": {
  "kernelspec": {
   "display_name": "Python 3",
   "language": "python",
   "name": "python3"
  },
  "language_info": {
   "codemirror_mode": {
    "name": "ipython",
    "version": 3
   },
   "file_extension": ".py",
   "mimetype": "text/x-python",
   "name": "python",
   "nbconvert_exporter": "python",
   "pygments_lexer": "ipython3",
   "version": "3.9.6"
  }
 },
 "nbformat": 4,
 "nbformat_minor": 2
}
