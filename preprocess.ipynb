{
 "cells": [
  {
   "cell_type": "code",
   "execution_count": 6,
   "metadata": {},
   "outputs": [],
   "source": [
    "import os\n",
    "import numpy as np\n",
    "import tqdm\n",
    "import json\n",
    "from normalize import *\n",
    "import pandas as pd\n",
    "from multiprocessing import Pool\n"
   ]
  },
  {
   "cell_type": "code",
   "execution_count": 7,
   "metadata": {},
   "outputs": [],
   "source": [
    "nthreads = 8\n",
    "target_shape = (64, 64)\n",
    "\n",
    "input_folder = './small-quickdraw'\n",
    "\n",
    "filenames = os.listdir(input_folder)\n",
    "output_folder = './processed_quickdraw'\n",
    "if not os.path.exists(output_folder):\n",
    "    os.makedirs(output_folder)\n",
    "files = os.listdir(input_folder)"
   ]
  },
  {
   "cell_type": "code",
   "execution_count": 8,
   "metadata": {},
   "outputs": [],
   "source": [
    "longest_stroke = 0"
   ]
  },
  {
   "cell_type": "code",
   "execution_count": 9,
   "metadata": {},
   "outputs": [
    {
     "name": "stderr",
     "output_type": "stream",
     "text": [
      "Processing files:   0%|          | 0/345 [00:00<?, ?file/s]"
     ]
    },
    {
     "name": "stderr",
     "output_type": "stream",
     "text": [
      "Processing files: 100%|██████████| 345/345 [02:32<00:00,  2.26file/s]\n"
     ]
    }
   ],
   "source": [
    "for filename in tqdm.tqdm(files, desc='Processing files', unit='file'):\n",
    "    if filename.endswith(\".ndjson\"):\n",
    "        input_file_path = os.path.join(input_folder, filename)\n",
    "        longest_stroke = max(longest_stroke, max_strokes(input_file_path))"
   ]
  },
  {
   "cell_type": "code",
   "execution_count": 10,
   "metadata": {},
   "outputs": [
    {
     "name": "stderr",
     "output_type": "stream",
     "text": [
      "Processing files: 100%|██████████| 345/345 [03:07<00:00,  1.84file/s]\n"
     ]
    }
   ],
   "source": [
    "\n",
    "\n",
    "# Create the output folder if it doesn't exist\n",
    "\n",
    "\n",
    "# Iterate through each file in the input folder\n",
    "\n",
    "\n",
    "for filename in tqdm.tqdm(files, desc='Processing files', unit='file'):\n",
    "    if filename.endswith(\".ndjson\"):\n",
    "        input_file_path = os.path.join(input_folder, filename)\n",
    "        output_file_path = os.path.join(output_folder, filename.split('.')[0] + '.npy')\n",
    "\n",
    "        processed_data = pad_strokes(input_file_path, longest_stroke) \n",
    "        # Convert the list of processed data into a single NumPy array\n",
    "\n",
    "        # Save the NumPy array to a .npy file in the output folder\n",
    "        np.save(output_file_path, processed_data)"
   ]
  },
  {
   "cell_type": "code",
   "execution_count": null,
   "metadata": {},
   "outputs": [],
   "source": []
  }
 ],
 "metadata": {
  "kernelspec": {
   "display_name": "Python 3",
   "language": "python",
   "name": "python3"
  },
  "language_info": {
   "codemirror_mode": {
    "name": "ipython",
    "version": 3
   },
   "file_extension": ".py",
   "mimetype": "text/x-python",
   "name": "python",
   "nbconvert_exporter": "python",
   "pygments_lexer": "ipython3",
   "version": "3.9.6"
  }
 },
 "nbformat": 4,
 "nbformat_minor": 2
}
